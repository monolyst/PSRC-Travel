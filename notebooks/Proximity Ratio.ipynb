{
 "cells": [
  {
   "cell_type": "markdown",
   "metadata": {},
   "source": [
    "## Proximity Ratio\n",
    "To evaluate the basket algorithm, I am proposing a new feature called the \"proximity ratio,\" which is the number of trips less than 2 miles vs the number of trips between 2 and 10 miles. Trips over 10 miles are outside the city and the volume shouldn’t really vary based on the origin.\n",
    "\n",
    "This notebook creates a list of blockgroups and their proximity ratio."
   ]
  },
  {
   "cell_type": "code",
   "execution_count": 1,
   "metadata": {
    "collapsed": true
   },
   "outputs": [],
   "source": [
    "import numpy as np\n",
    "import pandas as pd"
   ]
  },
  {
   "cell_type": "code",
   "execution_count": 3,
   "metadata": {},
   "outputs": [
    {
     "name": "stdout",
     "output_type": "stream",
     "text": [
      "        bg_origin  dist_under_2  dist_2_to_10  bg_dest  proximity_ratio\n",
      "0    530330001003   8636.736578   4049.570709       61         2.132754\n",
      "1    530330001005   1079.773483   7744.964000       63         0.139416\n",
      "2    530330004011   3201.180992   3355.850350      193         0.953911\n",
      "3    530330004013   1427.187521   2681.835932       97         0.532168\n",
      "4    530330006001   3010.226331   7991.339601       78         0.376686\n",
      "5    530330007001   1514.094519   5981.283601      344         0.253139\n",
      "6    530330012003   4452.666913   4594.651998      139         0.969098\n",
      "7    530330012004   2424.525530  16768.834479      174         0.144585\n",
      "8    530330012005   3972.589899   4958.457237       98         0.801175\n",
      "9    530330013002   1728.767936    881.783022       83         1.960537\n",
      "10   530330013003   1002.233416   1092.355963       55         0.917497\n",
      "11   530330016003   3070.480493   2092.303582       57         1.467512\n",
      "12   530330017011   5068.655348   6979.477215      162         0.726223\n",
      "13   530330018001   1075.182049    435.827706       75         2.466989\n",
      "14   530330018002    667.989415   6895.511234      126         0.096873\n",
      "15   530330018003   1700.596481   2140.469915      114         0.794497\n",
      "16   530330019001   6907.010516  15930.139660      171         0.433581\n",
      "17   530330026003   8044.113550   4525.302623      275         1.777586\n",
      "18   530330030002   5976.829879   2282.267936       89         2.618812\n",
      "19   530330032002  10066.812917   2398.836511       74         4.196540\n",
      "20   530330032003    999.895331   2330.060233       85         0.429129\n",
      "21   530330033003   2762.603981   4800.543465      178         0.575477\n",
      "22   530330033004   2392.604398    311.266277       83         7.686680\n",
      "23   530330036001   2611.732280   2277.997668      174         1.146503\n",
      "24   530330036002  10262.466779   2205.462301      178         4.653204\n",
      "25   530330036004  10232.299536   4772.057653      180         2.144211\n",
      "26   530330040001   3830.138348   5716.409430       66         0.670025\n",
      "27   530330041004  13936.151663   3113.600826       62         4.475895\n",
      "28   530330043011   5452.346185  25932.977068      285         0.210248\n",
      "29   530330043021    832.377181    773.815327      123         1.075679\n",
      "..            ...           ...           ...      ...              ...\n",
      "120  530330094001   2072.736626   1627.033711      115         1.273936\n",
      "121  530330094002   9552.175319   2715.686469       71         3.517407\n",
      "122  530330094004    494.049324    434.684857       54         1.136569\n",
      "123  530330095002   6424.340770   6378.513822      230         1.007185\n",
      "124  530330095004   1197.850109   6992.037529       92         0.171316\n",
      "125  530330096002   4352.212257   1302.062106      107         3.342554\n",
      "126  530330098004  12860.943292  11654.506310      254         1.103517\n",
      "127  530330099002    814.513911   5956.461004       65         0.136745\n",
      "128  530330099004   5139.430245   6010.429744      185         0.855085\n",
      "129  530330100011   2260.106746   3641.716619       57         0.620616\n",
      "130  530330100012   1470.072602   5376.655129       72         0.273418\n",
      "131  530330100013   1048.879112   6234.860980       86         0.168228\n",
      "132  530330101003    177.667594    424.166964       54         0.418862\n",
      "133  530330103004   6027.714934   1121.234979      127         5.375960\n",
      "134  530330103005   4135.216985   2605.751585      178         1.586957\n",
      "135  530330105001   4233.870201   3060.920428       99         1.383202\n",
      "136  530330105004  15379.676804  19197.647251      117         0.801123\n",
      "137  530330105005    838.513853    278.376370       74         3.012159\n",
      "138  530330106002    675.069662   1129.659707       64         0.597587\n",
      "139  530330106003  15194.629355  13222.868374      270         1.149117\n",
      "140  530330109001    350.042512   2591.956899       54         0.135050\n",
      "141  530330109002   1514.482547   2509.895791      129         0.603405\n",
      "142  530330110011   1552.438403   1510.081580       51         1.028049\n",
      "143  530330110013    389.417619   2711.496129       57         0.143617\n",
      "144  530330110022    217.272992    634.976799       55         0.342175\n",
      "145  530330112002     89.002588    164.559629       82         0.540853\n",
      "146  530330114012    487.055695    889.404906      103         0.547620\n",
      "147  530330114021   5368.583199   7409.627062      127         0.724542\n",
      "148  530330114022   2548.266637    549.343718       75         4.638747\n",
      "149  530330118006   2363.277105   1595.658808      110         1.481067\n",
      "\n",
      "[150 rows x 5 columns]\n"
     ]
    }
   ],
   "source": [
    "# load the trip data set\n",
    "data_dir = './data/'\n",
    "df_trip = pd.read_csv(data_dir + 'Trip_Household_Merged.csv', low_memory=False)\n",
    "\n",
    "# Filter trips that end outside seattle\n",
    "df_trip = df_trip[df_trip['uv_origin'] != \"Outside Seattle\"]\n",
    "\n",
    "# create bins, apply weights\n",
    "df_trip['trip_path_distance'] = df_trip['trip_path_distance'].astype(float)\n",
    "df_trip['dist_under_2'] = np.where(df_trip['trip_path_distance']<2, df_trip['trip_wt_final'], 0)\n",
    "df_trip['dist_2_to_10'] = np.where((df_trip['trip_path_distance']>=2) & \n",
    "                                   (df_trip['trip_path_distance']<10), df_trip['trip_wt_final'], 0)\n",
    "\n",
    "# aggregate by blockgroup origin\n",
    "df_proximity = df_trip.groupby(['bg_origin'], as_index=False).agg({'dist_under_2':sum,\n",
    "                                                                    'dist_2_to_10':sum,\n",
    "                                                                  'bg_dest':'count'})\n",
    "# filter blockgroups with trips less than 25\n",
    "df_proximity = df_proximity[df_proximity['bg_dest'] >= 50]\n",
    "df_proximity['proximity_ratio'] = df_proximity['dist_under_2']/df_proximity['dist_2_to_10']\n",
    "\n",
    "# remove outliers\n",
    "df_proximity = df_proximity[df_proximity['proximity_ratio'] < 10]\n",
    "\n",
    "\n",
    "df_proximity = df_proximity.reset_index(drop=True)\n",
    "print (df_proximity)\n",
    "df_proximity.to_csv(data_dir + 'Proximity_Ratio.csv', mode='w', header=True, index=False)\n"
   ]
  },
  {
   "cell_type": "code",
   "execution_count": null,
   "metadata": {
    "collapsed": true
   },
   "outputs": [],
   "source": []
  }
 ],
 "metadata": {
  "kernelspec": {
   "display_name": "Python 3",
   "language": "python",
   "name": "python3"
  },
  "language_info": {
   "codemirror_mode": {
    "name": "ipython",
    "version": 3
   },
   "file_extension": ".py",
   "mimetype": "text/x-python",
   "name": "python",
   "nbconvert_exporter": "python",
   "pygments_lexer": "ipython3",
   "version": "3.6.3"
  }
 },
 "nbformat": 4,
 "nbformat_minor": 2
}
